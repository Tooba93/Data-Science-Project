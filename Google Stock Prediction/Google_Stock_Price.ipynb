{
  "nbformat": 4,
  "nbformat_minor": 0,
  "metadata": {
    "colab": {
      "name": "Google Stock Price",
      "provenance": []
    },
    "kernelspec": {
      "name": "python3",
      "display_name": "Python 3"
    }
  },
  "cells": [
    {
      "cell_type": "code",
      "metadata": {
        "id": "EhPhqtQ0bGDI",
        "colab_type": "code",
        "colab": {
          "base_uri": "https://localhost:8080/",
          "height": 119
        },
        "outputId": "1d4bf03b-10e2-4852-aed7-9193b748d90d"
      },
      "source": [
        "! pip install scikit-learn\n",
        "from sklearn.tree import DecisionTreeRegressor\n",
        "from sklearn.model_selection import train_test_split\n",
        "import numpy as np\n",
        "import matplotlib.pyplot as plt\n",
        "import pandas as pd\n",
        "import datetime\n",
        "plt.style.use('bmh')\n",
        "%matplotlib inline\n",
        "!pip install scipy"
      ],
      "execution_count": null,
      "outputs": [
        {
          "output_type": "stream",
          "text": [
            "Requirement already satisfied: scikit-learn in /usr/local/lib/python3.6/dist-packages (0.22.2.post1)\n",
            "Requirement already satisfied: scipy>=0.17.0 in /usr/local/lib/python3.6/dist-packages (from scikit-learn) (1.4.1)\n",
            "Requirement already satisfied: joblib>=0.11 in /usr/local/lib/python3.6/dist-packages (from scikit-learn) (0.16.0)\n",
            "Requirement already satisfied: numpy>=1.11.0 in /usr/local/lib/python3.6/dist-packages (from scikit-learn) (1.18.5)\n",
            "Requirement already satisfied: scipy in /usr/local/lib/python3.6/dist-packages (1.4.1)\n",
            "Requirement already satisfied: numpy>=1.13.3 in /usr/local/lib/python3.6/dist-packages (from scipy) (1.18.5)\n"
          ],
          "name": "stdout"
        }
      ]
    },
    {
      "cell_type": "code",
      "metadata": {
        "id": "Y4jOshyecj_4",
        "colab_type": "code",
        "colab": {
          "resources": {
            "http://localhost:8080/nbextensions/google.colab/files.js": {
              "data": "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",
              "ok": true,
              "headers": [
                [
                  "content-type",
                  "application/javascript"
                ]
              ],
              "status": 200,
              "status_text": ""
            }
          },
          "base_uri": "https://localhost:8080/",
          "height": 72
        },
        "outputId": "0a87afc6-86ee-4d27-b2ce-2a2a8739df76"
      },
      "source": [
        "from google.colab import files\n",
        "uploaded=files.upload()"
      ],
      "execution_count": null,
      "outputs": [
        {
          "output_type": "display_data",
          "data": {
            "text/html": [
              "\n",
              "     <input type=\"file\" id=\"files-ff8b5ab9-e1c1-4561-beec-4f1717fcdfe8\" name=\"files[]\" multiple disabled\n",
              "        style=\"border:none\" />\n",
              "     <output id=\"result-ff8b5ab9-e1c1-4561-beec-4f1717fcdfe8\">\n",
              "      Upload widget is only available when the cell has been executed in the\n",
              "      current browser session. Please rerun this cell to enable.\n",
              "      </output>\n",
              "      <script src=\"/nbextensions/google.colab/files.js\"></script> "
            ],
            "text/plain": [
              "<IPython.core.display.HTML object>"
            ]
          },
          "metadata": {
            "tags": []
          }
        },
        {
          "output_type": "stream",
          "text": [
            "Saving GOOG.csv to GOOG (1).csv\n"
          ],
          "name": "stdout"
        }
      ]
    },
    {
      "cell_type": "code",
      "metadata": {
        "id": "yxCiR_7BdVE0",
        "colab_type": "code",
        "colab": {
          "base_uri": "https://localhost:8080/",
          "height": 235
        },
        "outputId": "09513d9b-c790-4a7f-cfb2-f1fe578f4b86"
      },
      "source": [
        "df=pd.read_csv('GOOG.csv')\n",
        "df.head(6)"
      ],
      "execution_count": null,
      "outputs": [
        {
          "output_type": "execute_result",
          "data": {
            "text/html": [
              "<div>\n",
              "<style scoped>\n",
              "    .dataframe tbody tr th:only-of-type {\n",
              "        vertical-align: middle;\n",
              "    }\n",
              "\n",
              "    .dataframe tbody tr th {\n",
              "        vertical-align: top;\n",
              "    }\n",
              "\n",
              "    .dataframe thead th {\n",
              "        text-align: right;\n",
              "    }\n",
              "</style>\n",
              "<table border=\"1\" class=\"dataframe\">\n",
              "  <thead>\n",
              "    <tr style=\"text-align: right;\">\n",
              "      <th></th>\n",
              "      <th>Date</th>\n",
              "      <th>Open</th>\n",
              "      <th>High</th>\n",
              "      <th>Low</th>\n",
              "      <th>Close</th>\n",
              "      <th>Adj_Close</th>\n",
              "      <th>Volume</th>\n",
              "    </tr>\n",
              "  </thead>\n",
              "  <tbody>\n",
              "    <tr>\n",
              "      <th>0</th>\n",
              "      <td>7/22/2019</td>\n",
              "      <td>1133.449951</td>\n",
              "      <td>1139.250000</td>\n",
              "      <td>1124.239990</td>\n",
              "      <td>1138.069946</td>\n",
              "      <td>1138.069946</td>\n",
              "      <td>1301500</td>\n",
              "    </tr>\n",
              "    <tr>\n",
              "      <th>1</th>\n",
              "      <td>7/23/2019</td>\n",
              "      <td>1144.000000</td>\n",
              "      <td>1146.900024</td>\n",
              "      <td>1131.800049</td>\n",
              "      <td>1146.209961</td>\n",
              "      <td>1146.209961</td>\n",
              "      <td>1093700</td>\n",
              "    </tr>\n",
              "    <tr>\n",
              "      <th>2</th>\n",
              "      <td>7/24/2019</td>\n",
              "      <td>1131.900024</td>\n",
              "      <td>1144.000000</td>\n",
              "      <td>1126.989990</td>\n",
              "      <td>1137.810059</td>\n",
              "      <td>1137.810059</td>\n",
              "      <td>1589800</td>\n",
              "    </tr>\n",
              "    <tr>\n",
              "      <th>3</th>\n",
              "      <td>7/25/2019</td>\n",
              "      <td>1137.819946</td>\n",
              "      <td>1141.699951</td>\n",
              "      <td>1120.920044</td>\n",
              "      <td>1132.119995</td>\n",
              "      <td>1132.119995</td>\n",
              "      <td>2209800</td>\n",
              "    </tr>\n",
              "    <tr>\n",
              "      <th>4</th>\n",
              "      <td>7/26/2019</td>\n",
              "      <td>1224.040039</td>\n",
              "      <td>1265.550049</td>\n",
              "      <td>1224.000000</td>\n",
              "      <td>1250.410034</td>\n",
              "      <td>1250.410034</td>\n",
              "      <td>4805800</td>\n",
              "    </tr>\n",
              "    <tr>\n",
              "      <th>5</th>\n",
              "      <td>7/29/2019</td>\n",
              "      <td>1241.050049</td>\n",
              "      <td>1247.369995</td>\n",
              "      <td>1228.229980</td>\n",
              "      <td>1239.410034</td>\n",
              "      <td>1239.410034</td>\n",
              "      <td>2223700</td>\n",
              "    </tr>\n",
              "  </tbody>\n",
              "</table>\n",
              "</div>"
            ],
            "text/plain": [
              "        Date         Open         High  ...        Close    Adj_Close   Volume\n",
              "0  7/22/2019  1133.449951  1139.250000  ...  1138.069946  1138.069946  1301500\n",
              "1  7/23/2019  1144.000000  1146.900024  ...  1146.209961  1146.209961  1093700\n",
              "2  7/24/2019  1131.900024  1144.000000  ...  1137.810059  1137.810059  1589800\n",
              "3  7/25/2019  1137.819946  1141.699951  ...  1132.119995  1132.119995  2209800\n",
              "4  7/26/2019  1224.040039  1265.550049  ...  1250.410034  1250.410034  4805800\n",
              "5  7/29/2019  1241.050049  1247.369995  ...  1239.410034  1239.410034  2223700\n",
              "\n",
              "[6 rows x 7 columns]"
            ]
          },
          "metadata": {
            "tags": []
          },
          "execution_count": 3
        }
      ]
    },
    {
      "cell_type": "code",
      "metadata": {
        "id": "Iu0b-Gigc5Ev",
        "colab_type": "code",
        "colab": {
          "base_uri": "https://localhost:8080/",
          "height": 34
        },
        "outputId": "b41c1815-a93f-420c-ffff-bdb34df09d54"
      },
      "source": [
        "df.shape"
      ],
      "execution_count": null,
      "outputs": [
        {
          "output_type": "execute_result",
          "data": {
            "text/plain": [
              "(254, 7)"
            ]
          },
          "metadata": {
            "tags": []
          },
          "execution_count": 4
        }
      ]
    },
    {
      "cell_type": "code",
      "metadata": {
        "id": "dlghL6_4pYFJ",
        "colab_type": "code",
        "colab": {
          "base_uri": "https://localhost:8080/",
          "height": 255
        },
        "outputId": "b37056e9-3a5c-4d8b-de72-21778642a892"
      },
      "source": [
        "df.info()"
      ],
      "execution_count": null,
      "outputs": [
        {
          "output_type": "stream",
          "text": [
            "<class 'pandas.core.frame.DataFrame'>\n",
            "RangeIndex: 254 entries, 0 to 253\n",
            "Data columns (total 7 columns):\n",
            " #   Column     Non-Null Count  Dtype  \n",
            "---  ------     --------------  -----  \n",
            " 0   Date       254 non-null    object \n",
            " 1   Open       254 non-null    float64\n",
            " 2   High       254 non-null    float64\n",
            " 3   Low        254 non-null    float64\n",
            " 4   Close      254 non-null    float64\n",
            " 5   Adj_Close  254 non-null    float64\n",
            " 6   Volume     254 non-null    int64  \n",
            "dtypes: float64(5), int64(1), object(1)\n",
            "memory usage: 14.0+ KB\n"
          ],
          "name": "stdout"
        }
      ]
    },
    {
      "cell_type": "code",
      "metadata": {
        "id": "0mHcaaAMdwov",
        "colab_type": "code",
        "colab": {
          "base_uri": "https://localhost:8080/",
          "height": 496
        },
        "outputId": "4592110f-64a5-4d63-e9f5-067476d6bcef"
      },
      "source": [
        "plt.figure(figsize=(16,8))\n",
        "plt.plot(df['Close'])\n",
        "plt.show"
      ],
      "execution_count": null,
      "outputs": [
        {
          "output_type": "execute_result",
          "data": {
            "text/plain": [
              "<function matplotlib.pyplot.show>"
            ]
          },
          "metadata": {
            "tags": []
          },
          "execution_count": 6
        },
        {
          "output_type": "display_data",
          "data": {
            "image/png": "[encoded data removed]",
            "text/plain": [
              "<Figure size 1152x576 with 1 Axes>"
            ]
          },
          "metadata": {
            "tags": [],
            "needs_background": "light"
          }
        }
      ]
    },
    {
      "cell_type": "code",
      "metadata": {
        "id": "rSJqfYj7fyJ6",
        "colab_type": "code",
        "colab": {
          "base_uri": "https://localhost:8080/",
          "height": 235
        },
        "outputId": "c9fcdbee-8be7-4760-fab9-153d0563e539"
      },
      "source": [
        "df=df[['Close']]\n",
        "df.head(6)\n"
      ],
      "execution_count": null,
      "outputs": [
        {
          "output_type": "execute_result",
          "data": {
            "text/html": [
              "<div>\n",
              "<style scoped>\n",
              "    .dataframe tbody tr th:only-of-type {\n",
              "        vertical-align: middle;\n",
              "    }\n",
              "\n",
              "    .dataframe tbody tr th {\n",
              "        vertical-align: top;\n",
              "    }\n",
              "\n",
              "    .dataframe thead th {\n",
              "        text-align: right;\n",
              "    }\n",
              "</style>\n",
              "<table border=\"1\" class=\"dataframe\">\n",
              "  <thead>\n",
              "    <tr style=\"text-align: right;\">\n",
              "      <th></th>\n",
              "      <th>Close</th>\n",
              "    </tr>\n",
              "  </thead>\n",
              "  <tbody>\n",
              "    <tr>\n",
              "      <th>0</th>\n",
              "      <td>1138.069946</td>\n",
              "    </tr>\n",
              "    <tr>\n",
              "      <th>1</th>\n",
              "      <td>1146.209961</td>\n",
              "    </tr>\n",
              "    <tr>\n",
              "      <th>2</th>\n",
              "      <td>1137.810059</td>\n",
              "    </tr>\n",
              "    <tr>\n",
              "      <th>3</th>\n",
              "      <td>1132.119995</td>\n",
              "    </tr>\n",
              "    <tr>\n",
              "      <th>4</th>\n",
              "      <td>1250.410034</td>\n",
              "    </tr>\n",
              "    <tr>\n",
              "      <th>5</th>\n",
              "      <td>1239.410034</td>\n",
              "    </tr>\n",
              "  </tbody>\n",
              "</table>\n",
              "</div>"
            ],
            "text/plain": [
              "         Close\n",
              "0  1138.069946\n",
              "1  1146.209961\n",
              "2  1137.810059\n",
              "3  1132.119995\n",
              "4  1250.410034\n",
              "5  1239.410034"
            ]
          },
          "metadata": {
            "tags": []
          },
          "execution_count": 7
        }
      ]
    },
    {
      "cell_type": "code",
      "metadata": {
        "id": "iMmDrAPCe7-P",
        "colab_type": "code",
        "colab": {
          "base_uri": "https://localhost:8080/",
          "height": 419
        },
        "outputId": "869ef6ab-9e60-440c-f8b5-02ee185d56cb"
      },
      "source": [
        "future_days=25\n",
        "df['Predictions']=df[['Close']].shift(-future_days)\n",
        "df"
      ],
      "execution_count": null,
      "outputs": [
        {
          "output_type": "execute_result",
          "data": {
            "text/html": [
              "<div>\n",
              "<style scoped>\n",
              "    .dataframe tbody tr th:only-of-type {\n",
              "        vertical-align: middle;\n",
              "    }\n",
              "\n",
              "    .dataframe tbody tr th {\n",
              "        vertical-align: top;\n",
              "    }\n",
              "\n",
              "    .dataframe thead th {\n",
              "        text-align: right;\n",
              "    }\n",
              "</style>\n",
              "<table border=\"1\" class=\"dataframe\">\n",
              "  <thead>\n",
              "    <tr style=\"text-align: right;\">\n",
              "      <th></th>\n",
              "      <th>Close</th>\n",
              "      <th>Predictions</th>\n",
              "    </tr>\n",
              "  </thead>\n",
              "  <tbody>\n",
              "    <tr>\n",
              "      <th>0</th>\n",
              "      <td>1138.069946</td>\n",
              "      <td>1168.890015</td>\n",
              "    </tr>\n",
              "    <tr>\n",
              "      <th>1</th>\n",
              "      <td>1146.209961</td>\n",
              "      <td>1167.839966</td>\n",
              "    </tr>\n",
              "    <tr>\n",
              "      <th>2</th>\n",
              "      <td>1137.810059</td>\n",
              "      <td>1171.020020</td>\n",
              "    </tr>\n",
              "    <tr>\n",
              "      <th>3</th>\n",
              "      <td>1132.119995</td>\n",
              "      <td>1192.849976</td>\n",
              "    </tr>\n",
              "    <tr>\n",
              "      <th>4</th>\n",
              "      <td>1250.410034</td>\n",
              "      <td>1188.099976</td>\n",
              "    </tr>\n",
              "    <tr>\n",
              "      <th>...</th>\n",
              "      <td>...</td>\n",
              "      <td>...</td>\n",
              "    </tr>\n",
              "    <tr>\n",
              "      <th>249</th>\n",
              "      <td>1518.000000</td>\n",
              "      <td>NaN</td>\n",
              "    </tr>\n",
              "    <tr>\n",
              "      <th>250</th>\n",
              "      <td>1515.550049</td>\n",
              "      <td>NaN</td>\n",
              "    </tr>\n",
              "    <tr>\n",
              "      <th>251</th>\n",
              "      <td>1565.719971</td>\n",
              "      <td>NaN</td>\n",
              "    </tr>\n",
              "    <tr>\n",
              "      <th>252</th>\n",
              "      <td>1558.420044</td>\n",
              "      <td>NaN</td>\n",
              "    </tr>\n",
              "    <tr>\n",
              "      <th>253</th>\n",
              "      <td>1550.898804</td>\n",
              "      <td>NaN</td>\n",
              "    </tr>\n",
              "  </tbody>\n",
              "</table>\n",
              "<p>254 rows × 2 columns</p>\n",
              "</div>"
            ],
            "text/plain": [
              "           Close  Predictions\n",
              "0    1138.069946  1168.890015\n",
              "1    1146.209961  1167.839966\n",
              "2    1137.810059  1171.020020\n",
              "3    1132.119995  1192.849976\n",
              "4    1250.410034  1188.099976\n",
              "..           ...          ...\n",
              "249  1518.000000          NaN\n",
              "250  1515.550049          NaN\n",
              "251  1565.719971          NaN\n",
              "252  1558.420044          NaN\n",
              "253  1550.898804          NaN\n",
              "\n",
              "[254 rows x 2 columns]"
            ]
          },
          "metadata": {
            "tags": []
          },
          "execution_count": 36
        }
      ]
    },
    {
      "cell_type": "code",
      "metadata": {
        "id": "zqaZQwlahBTW",
        "colab_type": "code",
        "colab": {
          "base_uri": "https://localhost:8080/",
          "height": 1000
        },
        "outputId": "3b3dbabf-33c6-42b7-c57b-9144d3530d3c"
      },
      "source": [
        "X=np.array(df.drop(['Predictions'],(1)))[:-future_days]\n",
        "print(X)"
      ],
      "execution_count": null,
      "outputs": [
        {
          "output_type": "stream",
          "text": [
            "[[1138.069946]\n",
            " [1146.209961]\n",
            " [1137.810059]\n",
            " [1132.119995]\n",
            " [1250.410034]\n",
            " [1239.410034]\n",
            " [1225.140015]\n",
            " [1216.680054]\n",
            " [1209.01001 ]\n",
            " [1193.98999 ]\n",
            " [1152.319946]\n",
            " [1169.949951]\n",
            " [1173.98999 ]\n",
            " [1204.800049]\n",
            " [1188.01001 ]\n",
            " [1174.709961]\n",
            " [1197.27002 ]\n",
            " [1164.290039]\n",
            " [1167.26001 ]\n",
            " [1177.599976]\n",
            " [1198.449951]\n",
            " [1182.689941]\n",
            " [1191.25    ]\n",
            " [1189.530029]\n",
            " [1151.290039]\n",
            " [1168.890015]\n",
            " [1167.839966]\n",
            " [1171.02002 ]\n",
            " [1192.849976]\n",
            " [1188.099976]\n",
            " [1168.390015]\n",
            " [1181.410034]\n",
            " [1211.380005]\n",
            " [1204.930054]\n",
            " [1204.410034]\n",
            " [1206.      ]\n",
            " [1220.170044]\n",
            " [1234.25    ]\n",
            " [1239.560059]\n",
            " [1231.300049]\n",
            " [1229.150024]\n",
            " [1232.410034]\n",
            " [1238.709961]\n",
            " [1229.930054]\n",
            " [1234.030029]\n",
            " [1218.76001 ]\n",
            " [1246.52002 ]\n",
            " [1241.390015]\n",
            " [1225.089966]\n",
            " [1219.      ]\n",
            " [1205.099976]\n",
            " [1176.630005]\n",
            " [1187.829956]\n",
            " [1209.      ]\n",
            " [1207.680054]\n",
            " [1189.130005]\n",
            " [1202.310059]\n",
            " [1208.670044]\n",
            " [1215.449951]\n",
            " [1217.140015]\n",
            " [1243.01001 ]\n",
            " [1243.640015]\n",
            " [1253.069946]\n",
            " [1245.48999 ]\n",
            " [1246.150024]\n",
            " [1242.800049]\n",
            " [1259.130005]\n",
            " [1260.98999 ]\n",
            " [1265.130005]\n",
            " [1290.      ]\n",
            " [1262.619995]\n",
            " [1261.290039]\n",
            " [1260.109985]\n",
            " [1273.73999 ]\n",
            " [1291.369995]\n",
            " [1292.030029]\n",
            " [1291.800049]\n",
            " [1308.859985]\n",
            " [1311.369995]\n",
            " [1299.189941]\n",
            " [1298.800049]\n",
            " [1298.      ]\n",
            " [1311.459961]\n",
            " [1334.869995]\n",
            " [1320.699951]\n",
            " [1315.459961]\n",
            " [1303.050049]\n",
            " [1301.349976]\n",
            " [1295.339966]\n",
            " [1306.689941]\n",
            " [1313.550049]\n",
            " [1312.98999 ]\n",
            " [1304.959961]\n",
            " [1289.920044]\n",
            " [1295.280029]\n",
            " [1320.540039]\n",
            " [1328.130005]\n",
            " [1340.619995]\n",
            " [1343.560059]\n",
            " [1344.660034]\n",
            " [1345.02002 ]\n",
            " [1350.27002 ]\n",
            " [1347.829956]\n",
            " [1361.170044]\n",
            " [1355.119995]\n",
            " [1352.619995]\n",
            " [1356.040039]\n",
            " [1349.589966]\n",
            " [1348.839966]\n",
            " [1343.560059]\n",
            " [1360.400024]\n",
            " [1351.890015]\n",
            " [1336.140015]\n",
            " [1337.02002 ]\n",
            " [1367.369995]\n",
            " [1360.660034]\n",
            " [1394.209961]\n",
            " [1393.339966]\n",
            " [1404.319946]\n",
            " [1419.829956]\n",
            " [1429.72998 ]\n",
            " [1439.22998 ]\n",
            " [1430.880005]\n",
            " [1439.199951]\n",
            " [1451.699951]\n",
            " [1480.390015]\n",
            " [1484.400024]\n",
            " [1485.949951]\n",
            " [1486.650024]\n",
            " [1466.709961]\n",
            " [1433.900024]\n",
            " [1452.560059]\n",
            " [1458.630005]\n",
            " [1455.839966]\n",
            " [1434.22998 ]\n",
            " [1485.939941]\n",
            " [1447.069946]\n",
            " [1448.22998 ]\n",
            " [1476.22998 ]\n",
            " [1479.22998 ]\n",
            " [1508.680054]\n",
            " [1508.790039]\n",
            " [1518.27002 ]\n",
            " [1514.660034]\n",
            " [1520.73999 ]\n",
            " [1519.670044]\n",
            " [1526.689941]\n",
            " [1518.150024]\n",
            " [1485.109985]\n",
            " [1421.589966]\n",
            " [1388.449951]\n",
            " [1393.180054]\n",
            " [1318.089966]\n",
            " [1339.329956]\n",
            " [1389.109985]\n",
            " [1341.390015]\n",
            " [1386.52002 ]\n",
            " [1319.040039]\n",
            " [1298.410034]\n",
            " [1215.560059]\n",
            " [1280.390015]\n",
            " [1215.410034]\n",
            " [1114.910034]\n",
            " [1219.72998 ]\n",
            " [1084.329956]\n",
            " [1119.800049]\n",
            " [1096.800049]\n",
            " [1115.290039]\n",
            " [1072.319946]\n",
            " [1056.619995]\n",
            " [1134.459961]\n",
            " [1102.48999 ]\n",
            " [1161.75    ]\n",
            " [1110.709961]\n",
            " [1146.819946]\n",
            " [1162.810059]\n",
            " [1105.619995]\n",
            " [1120.839966]\n",
            " [1097.880005]\n",
            " [1186.920044]\n",
            " [1186.51001 ]\n",
            " [1210.280029]\n",
            " [1211.449951]\n",
            " [1217.560059]\n",
            " [1269.22998 ]\n",
            " [1262.469971]\n",
            " [1263.469971]\n",
            " [1283.25    ]\n",
            " [1266.609985]\n",
            " [1216.339966]\n",
            " [1263.209961]\n",
            " [1276.310059]\n",
            " [1279.310059]\n",
            " [1275.880005]\n",
            " [1233.670044]\n",
            " [1341.47998 ]\n",
            " [1348.660034]\n",
            " [1320.609985]\n",
            " [1326.800049]\n",
            " [1351.109985]\n",
            " [1347.300049]\n",
            " [1372.560059]\n",
            " [1388.369995]\n",
            " [1403.26001 ]\n",
            " [1375.73999 ]\n",
            " [1349.329956]\n",
            " [1356.130005]\n",
            " [1373.189941]\n",
            " [1383.939941]\n",
            " [1373.484985]\n",
            " [1406.719971]\n",
            " [1402.800049]\n",
            " [1410.420044]\n",
            " [1417.02002 ]\n",
            " [1417.839966]\n",
            " [1416.72998 ]\n",
            " [1428.920044]\n",
            " [1431.819946]\n",
            " [1439.219971]\n",
            " [1436.380005]\n",
            " [1412.180054]\n",
            " [1438.390015]\n",
            " [1446.609985]\n",
            " [1456.160034]\n",
            " [1465.849976]\n",
            " [1403.839966]\n",
            " [1413.180054]\n",
            " [1419.849976]\n",
            " [1442.719971]]\n"
          ],
          "name": "stdout"
        }
      ]
    },
    {
      "cell_type": "code",
      "metadata": {
        "id": "X4564dvxjKML",
        "colab_type": "code",
        "colab": {
          "base_uri": "https://localhost:8080/",
          "height": 680
        },
        "outputId": "f96af444-1ed7-4429-9914-4eb29e5f0bba"
      },
      "source": [
        "y=np.array(df['Predictions'])[:-future_days]\n",
        "print(y)"
      ],
      "execution_count": null,
      "outputs": [
        {
          "output_type": "stream",
          "text": [
            "[1168.890015 1167.839966 1171.02002  1192.849976 1188.099976 1168.390015\n",
            " 1181.410034 1211.380005 1204.930054 1204.410034 1206.       1220.170044\n",
            " 1234.25     1239.560059 1231.300049 1229.150024 1232.410034 1238.709961\n",
            " 1229.930054 1234.030029 1218.76001  1246.52002  1241.390015 1225.089966\n",
            " 1219.       1205.099976 1176.630005 1187.829956 1209.       1207.680054\n",
            " 1189.130005 1202.310059 1208.670044 1215.449951 1217.140015 1243.01001\n",
            " 1243.640015 1253.069946 1245.48999  1246.150024 1242.800049 1259.130005\n",
            " 1260.98999  1265.130005 1290.       1262.619995 1261.290039 1260.109985\n",
            " 1273.73999  1291.369995 1292.030029 1291.800049 1308.859985 1311.369995\n",
            " 1299.189941 1298.800049 1298.       1311.459961 1334.869995 1320.699951\n",
            " 1315.459961 1303.050049 1301.349976 1295.339966 1306.689941 1313.550049\n",
            " 1312.98999  1304.959961 1289.920044 1295.280029 1320.540039 1328.130005\n",
            " 1340.619995 1343.560059 1344.660034 1345.02002  1350.27002  1347.829956\n",
            " 1361.170044 1355.119995 1352.619995 1356.040039 1349.589966 1348.839966\n",
            " 1343.560059 1360.400024 1351.890015 1336.140015 1337.02002  1367.369995\n",
            " 1360.660034 1394.209961 1393.339966 1404.319946 1419.829956 1429.72998\n",
            " 1439.22998  1430.880005 1439.199951 1451.699951 1480.390015 1484.400024\n",
            " 1485.949951 1486.650024 1466.709961 1433.900024 1452.560059 1458.630005\n",
            " 1455.839966 1434.22998  1485.939941 1447.069946 1448.22998  1476.22998\n",
            " 1479.22998  1508.680054 1508.790039 1518.27002  1514.660034 1520.73999\n",
            " 1519.670044 1526.689941 1518.150024 1485.109985 1421.589966 1388.449951\n",
            " 1393.180054 1318.089966 1339.329956 1389.109985 1341.390015 1386.52002\n",
            " 1319.040039 1298.410034 1215.560059 1280.390015 1215.410034 1114.910034\n",
            " 1219.72998  1084.329956 1119.800049 1096.800049 1115.290039 1072.319946\n",
            " 1056.619995 1134.459961 1102.48999  1161.75     1110.709961 1146.819946\n",
            " 1162.810059 1105.619995 1120.839966 1097.880005 1186.920044 1186.51001\n",
            " 1210.280029 1211.449951 1217.560059 1269.22998  1262.469971 1263.469971\n",
            " 1283.25     1266.609985 1216.339966 1263.209961 1276.310059 1279.310059\n",
            " 1275.880005 1233.670044 1341.47998  1348.660034 1320.609985 1326.800049\n",
            " 1351.109985 1347.300049 1372.560059 1388.369995 1403.26001  1375.73999\n",
            " 1349.329956 1356.130005 1373.189941 1383.939941 1373.484985 1406.719971\n",
            " 1402.800049 1410.420044 1417.02002  1417.839966 1416.72998  1428.920044\n",
            " 1431.819946 1439.219971 1436.380005 1412.180054 1438.390015 1446.609985\n",
            " 1456.160034 1465.849976 1403.839966 1413.180054 1419.849976 1442.719971\n",
            " 1451.119995 1435.959961 1431.719971 1451.859985 1464.410034 1431.969971\n",
            " 1441.329956 1359.900024 1394.969971 1413.609985 1438.040039 1464.699951\n",
            " 1495.699951 1485.180054 1496.       1510.98999  1541.73999  1511.339966\n",
            " 1520.579956 1513.640015 1518.       1515.550049 1565.719971 1558.420044\n",
            " 1550.898804]\n"
          ],
          "name": "stdout"
        }
      ]
    },
    {
      "cell_type": "code",
      "metadata": {
        "id": "EH2PfnH2iUIv",
        "colab_type": "code",
        "colab": {}
      },
      "source": [
        "##Split the dat for Training and Testing###\n",
        "\n",
        "x_train,x_test,y_train,y_test=train_test_split(X,y, test_size=0.25)"
      ],
      "execution_count": null,
      "outputs": []
    },
    {
      "cell_type": "code",
      "metadata": {
        "id": "XNnjqhMhkXAQ",
        "colab_type": "code",
        "colab": {}
      },
      "source": [
        "##Create the model##\n",
        "tree=DecisionTreeRegressor().fit(x_train,y_train)"
      ],
      "execution_count": null,
      "outputs": []
    },
    {
      "cell_type": "code",
      "metadata": {
        "id": "JrS1UwMjk993",
        "colab_type": "code",
        "colab": {
          "base_uri": "https://localhost:8080/",
          "height": 442
        },
        "outputId": "1cc625fd-244e-4b5f-f66b-afcbc8d0598a"
      },
      "source": [
        "x_future=(df.drop(['Predictions'],(1)))[:-future_days]\n",
        "x_future=x_future.tail(future_days)\n",
        "x_future=np.array(x_future)\n",
        "x_future"
      ],
      "execution_count": null,
      "outputs": [
        {
          "output_type": "execute_result",
          "data": {
            "text/plain": [
              "array([[1375.73999 ],\n",
              "       [1349.329956],\n",
              "       [1356.130005],\n",
              "       [1373.189941],\n",
              "       [1383.939941],\n",
              "       [1373.484985],\n",
              "       [1406.719971],\n",
              "       [1402.800049],\n",
              "       [1410.420044],\n",
              "       [1417.02002 ],\n",
              "       [1417.839966],\n",
              "       [1416.72998 ],\n",
              "       [1428.920044],\n",
              "       [1431.819946],\n",
              "       [1439.219971],\n",
              "       [1436.380005],\n",
              "       [1412.180054],\n",
              "       [1438.390015],\n",
              "       [1446.609985],\n",
              "       [1456.160034],\n",
              "       [1465.849976],\n",
              "       [1403.839966],\n",
              "       [1413.180054],\n",
              "       [1419.849976],\n",
              "       [1442.719971]])"
            ]
          },
          "metadata": {
            "tags": []
          },
          "execution_count": 41
        }
      ]
    },
    {
      "cell_type": "code",
      "metadata": {
        "id": "UL867w9UloPA",
        "colab_type": "code",
        "colab": {
          "base_uri": "https://localhost:8080/",
          "height": 102
        },
        "outputId": "f5cf8f06-4467-44ed-d2e9-5817fe90739a"
      },
      "source": [
        "tree_predicton=tree.predict(x_future)\n",
        "print(tree_predicton)"
      ],
      "execution_count": null,
      "outputs": [
        {
          "output_type": "stream",
          "text": [
            "[1451.119995 1435.959961 1431.719971 1451.859985 1419.849976 1451.859985\n",
            " 1441.329956 1359.900024 1565.719971 1413.609985 1438.040039 1464.699951\n",
            " 1495.699951 1485.180054 1526.689941 1215.560059 1565.719971 1526.689941\n",
            " 1520.579956 1513.640015 1389.109985 1515.550049 1565.719971 1558.420044\n",
            " 1526.689941]\n"
          ],
          "name": "stdout"
        }
      ]
    },
    {
      "cell_type": "code",
      "metadata": {
        "id": "9QffVqWtl_GC",
        "colab_type": "code",
        "colab": {
          "base_uri": "https://localhost:8080/",
          "height": 615
        },
        "outputId": "d83d9214-8386-4e21-9860-7a04523ab1cd"
      },
      "source": [
        "prediction=tree_predicton\n",
        "\n",
        "valid=df[X.shape[0]:]\n",
        "valid['Predictions']=prediction\n",
        "plt.figure(figsize=(16,8))\n",
        "plt.title('Model')\n",
        "plt.xlabel('Day')\n",
        "plt.ylabel('price')\n",
        "plt.plot(df['Close'])\n",
        "plt.plot(valid[['Close', 'Predictions']])\n",
        "plt.legend(['Orig', 'Val', 'Pred'])\n",
        "plt.show()"
      ],
      "execution_count": null,
      "outputs": [
        {
          "output_type": "stream",
          "text": [
            "/usr/local/lib/python3.6/dist-packages/ipykernel_launcher.py:4: SettingWithCopyWarning: \n",
            "A value is trying to be set on a copy of a slice from a DataFrame.\n",
            "Try using .loc[row_indexer,col_indexer] = value instead\n",
            "\n",
            "See the caveats in the documentation: https://pandas.pydata.org/pandas-docs/stable/user_guide/indexing.html#returning-a-view-versus-a-copy\n",
            "  after removing the cwd from sys.path.\n"
          ],
          "name": "stderr"
        },
        {
          "output_type": "display_data",
          "data": {
            "image/png": "[encoded data removed]",
            "text/plain": [
              "<Figure size 1152x576 with 1 Axes>"
            ]
          },
          "metadata": {
            "tags": [],
            "needs_background": "light"
          }
        }
      ]
    },
    {
      "cell_type": "code",
      "metadata": {
        "id": "d3zxf2MAoMYU",
        "colab_type": "code",
        "colab": {}
      },
      "source": [
        ""
      ],
      "execution_count": null,
      "outputs": []
    }
  ]
}